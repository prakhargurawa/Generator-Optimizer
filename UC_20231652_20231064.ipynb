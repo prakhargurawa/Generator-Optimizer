{
  "nbformat": 4,
  "nbformat_minor": 0,
  "metadata": {
    "colab": {
      "name": "UC_20231652_20231064.ipynb",
      "provenance": [],
      "collapsed_sections": []
    },
    "kernelspec": {
      "display_name": "Python 3",
      "language": "python",
      "name": "python3"
    },
    "language_info": {
      "codemirror_mode": {
        "name": "ipython",
        "version": 3
      },
      "file_extension": ".py",
      "mimetype": "text/x-python",
      "name": "python",
      "nbconvert_exporter": "python",
      "pygments_lexer": "ipython3",
      "version": "3.8.5"
    }
  },
  "cells": [
    {
      "cell_type": "markdown",
      "metadata": {
        "id": "icvOjfqOWR9R"
      },
      "source": [
        "# Generator optimisation problem"
      ]
    },
    {
      "cell_type": "markdown",
      "metadata": {
        "id": "J_shRv8fWR9S"
      },
      "source": [
        "**Group details:**  \n",
        "**Name:** Gautham Vadakkekara Suresh \n",
        "**Student ID:** 20231652 \n",
        "\n",
        "**Name:** Prakhar Gurawa\n",
        "**Student ID:** 20231064\n",
        "\n",
        "**Task details:**\n",
        "Given a set of 10 generators ( Hydro-electricity, Solid fuel, Gas and Solar) we need to opearate the generators at minimum cost considering different constraints.\n",
        "The constraints are as follows:\n",
        "1. The energy produced by each generator per hour should be in range of lower and upper bounds.\n",
        "2. The energy produced by solid fuel per hour is constant.\n",
        "3. The total energy produced per hour should match with demand of city.\n",
        "4. The efficieny of solar energy varies from hour to hour.\n",
        "\n",
        "    \n",
        "\n",
        "\n",
        "\n"
      ]
    },
    {
      "cell_type": "markdown",
      "metadata": {
        "id": "cPTUbGWyHCJs"
      },
      "source": [
        "## Install requirements"
      ]
    },
    {
      "cell_type": "code",
      "metadata": {
        "id": "0g5TdtjRHCJt"
      },
      "source": [
        "# Uncomment below line if you need to install the requirements\n",
        "#! pip install pandas numpy matplotlib seaborn ortools"
      ],
      "execution_count": null,
      "outputs": []
    },
    {
      "cell_type": "markdown",
      "metadata": {
        "id": "dvcupIx_WR9S"
      },
      "source": [
        "## Import modules"
      ]
    },
    {
      "cell_type": "code",
      "metadata": {
        "id": "fb4L7Ba7WR9T"
      },
      "source": [
        "import pandas as pd\n",
        "import seaborn as sns\n",
        "import matplotlib.pyplot as plt\n",
        "from ortools.linear_solver import pywraplp\n",
        "%matplotlib inline"
      ],
      "execution_count": null,
      "outputs": []
    },
    {
      "cell_type": "markdown",
      "metadata": {
        "id": "rGfm76hHWR9Y"
      },
      "source": [
        "## Read datasets"
      ]
    },
    {
      "cell_type": "markdown",
      "metadata": {
        "id": "9vG7IzOVWR9Z"
      },
      "source": [
        "Read details about generators to dataframe"
      ]
    },
    {
      "cell_type": "code",
      "metadata": {
        "id": "IY4wOp4WWR9a"
      },
      "source": [
        "gen_info_df = pd.read_csv('generator_info.csv', index_col='name')"
      ],
      "execution_count": null,
      "outputs": []
    },
    {
      "cell_type": "code",
      "metadata": {
        "id": "W0VKPbJKWR9d",
        "outputId": "05d72ce6-7464-4e60-ced8-a5d241c1edee"
      },
      "source": [
        "gen_info_df.head()"
      ],
      "execution_count": null,
      "outputs": [
        {
          "output_type": "execute_result",
          "data": {
            "text/html": [
              "<div>\n",
              "<style scoped>\n",
              "    .dataframe tbody tr th:only-of-type {\n",
              "        vertical-align: middle;\n",
              "    }\n",
              "\n",
              "    .dataframe tbody tr th {\n",
              "        vertical-align: top;\n",
              "    }\n",
              "\n",
              "    .dataframe thead th {\n",
              "        text-align: right;\n",
              "    }\n",
              "</style>\n",
              "<table border=\"1\" class=\"dataframe\">\n",
              "  <thead>\n",
              "    <tr style=\"text-align: right;\">\n",
              "      <th></th>\n",
              "      <th>type</th>\n",
              "      <th>lower_bound (MW)</th>\n",
              "      <th>upper_bound (MW)</th>\n",
              "      <th>cost/MW</th>\n",
              "      <th>CO2/MW</th>\n",
              "    </tr>\n",
              "    <tr>\n",
              "      <th>name</th>\n",
              "      <th></th>\n",
              "      <th></th>\n",
              "      <th></th>\n",
              "      <th></th>\n",
              "      <th></th>\n",
              "    </tr>\n",
              "  </thead>\n",
              "  <tbody>\n",
              "    <tr>\n",
              "      <th>A</th>\n",
              "      <td>hydro</td>\n",
              "      <td>10</td>\n",
              "      <td>100</td>\n",
              "      <td>1.4</td>\n",
              "      <td>0.024</td>\n",
              "    </tr>\n",
              "    <tr>\n",
              "      <th>B</th>\n",
              "      <td>hydro</td>\n",
              "      <td>10</td>\n",
              "      <td>80</td>\n",
              "      <td>1.4</td>\n",
              "      <td>0.024</td>\n",
              "    </tr>\n",
              "    <tr>\n",
              "      <th>C</th>\n",
              "      <td>hydro</td>\n",
              "      <td>10</td>\n",
              "      <td>60</td>\n",
              "      <td>1.4</td>\n",
              "      <td>0.024</td>\n",
              "    </tr>\n",
              "    <tr>\n",
              "      <th>D</th>\n",
              "      <td>hydro</td>\n",
              "      <td>1</td>\n",
              "      <td>10</td>\n",
              "      <td>1.4</td>\n",
              "      <td>0.024</td>\n",
              "    </tr>\n",
              "    <tr>\n",
              "      <th>E</th>\n",
              "      <td>solid</td>\n",
              "      <td>100</td>\n",
              "      <td>900</td>\n",
              "      <td>4.4</td>\n",
              "      <td>0.820</td>\n",
              "    </tr>\n",
              "  </tbody>\n",
              "</table>\n",
              "</div>"
            ],
            "text/plain": [
              "       type  lower_bound (MW)  upper_bound (MW)  cost/MW  CO2/MW\n",
              "name                                                            \n",
              "A     hydro                10               100      1.4   0.024\n",
              "B     hydro                10                80      1.4   0.024\n",
              "C     hydro                10                60      1.4   0.024\n",
              "D     hydro                 1                10      1.4   0.024\n",
              "E     solid               100               900      4.4   0.820"
            ]
          },
          "metadata": {
            "tags": []
          },
          "execution_count": 4
        }
      ]
    },
    {
      "cell_type": "code",
      "metadata": {
        "id": "PoVmuGeNWR9h"
      },
      "source": [
        "# Rename column names for easy reference\n",
        "gen_info_df.rename(columns = {'lower_bound (MW)' : 'lb', 'upper_bound (MW)': 'ub', 'cost/MW': 'cost/mw', 'CO2/MW': 'co2/mw'}, inplace=True)"
      ],
      "execution_count": null,
      "outputs": []
    },
    {
      "cell_type": "code",
      "metadata": {
        "id": "_C5oWFPQWR9k",
        "outputId": "ca10f062-b58c-4e9a-ee49-e5e4f28f0f3d"
      },
      "source": [
        "gen_info_df"
      ],
      "execution_count": null,
      "outputs": [
        {
          "output_type": "execute_result",
          "data": {
            "text/html": [
              "<div>\n",
              "<style scoped>\n",
              "    .dataframe tbody tr th:only-of-type {\n",
              "        vertical-align: middle;\n",
              "    }\n",
              "\n",
              "    .dataframe tbody tr th {\n",
              "        vertical-align: top;\n",
              "    }\n",
              "\n",
              "    .dataframe thead th {\n",
              "        text-align: right;\n",
              "    }\n",
              "</style>\n",
              "<table border=\"1\" class=\"dataframe\">\n",
              "  <thead>\n",
              "    <tr style=\"text-align: right;\">\n",
              "      <th></th>\n",
              "      <th>type</th>\n",
              "      <th>lb</th>\n",
              "      <th>ub</th>\n",
              "      <th>cost/mw</th>\n",
              "      <th>co2/mw</th>\n",
              "    </tr>\n",
              "    <tr>\n",
              "      <th>name</th>\n",
              "      <th></th>\n",
              "      <th></th>\n",
              "      <th></th>\n",
              "      <th></th>\n",
              "      <th></th>\n",
              "    </tr>\n",
              "  </thead>\n",
              "  <tbody>\n",
              "    <tr>\n",
              "      <th>A</th>\n",
              "      <td>hydro</td>\n",
              "      <td>10</td>\n",
              "      <td>100</td>\n",
              "      <td>1.4</td>\n",
              "      <td>0.024</td>\n",
              "    </tr>\n",
              "    <tr>\n",
              "      <th>B</th>\n",
              "      <td>hydro</td>\n",
              "      <td>10</td>\n",
              "      <td>80</td>\n",
              "      <td>1.4</td>\n",
              "      <td>0.024</td>\n",
              "    </tr>\n",
              "    <tr>\n",
              "      <th>C</th>\n",
              "      <td>hydro</td>\n",
              "      <td>10</td>\n",
              "      <td>60</td>\n",
              "      <td>1.4</td>\n",
              "      <td>0.024</td>\n",
              "    </tr>\n",
              "    <tr>\n",
              "      <th>D</th>\n",
              "      <td>hydro</td>\n",
              "      <td>1</td>\n",
              "      <td>10</td>\n",
              "      <td>1.4</td>\n",
              "      <td>0.024</td>\n",
              "    </tr>\n",
              "    <tr>\n",
              "      <th>E</th>\n",
              "      <td>solid</td>\n",
              "      <td>100</td>\n",
              "      <td>900</td>\n",
              "      <td>4.4</td>\n",
              "      <td>0.820</td>\n",
              "    </tr>\n",
              "    <tr>\n",
              "      <th>F</th>\n",
              "      <td>solid</td>\n",
              "      <td>100</td>\n",
              "      <td>600</td>\n",
              "      <td>4.4</td>\n",
              "      <td>0.820</td>\n",
              "    </tr>\n",
              "    <tr>\n",
              "      <th>G</th>\n",
              "      <td>solid</td>\n",
              "      <td>10</td>\n",
              "      <td>100</td>\n",
              "      <td>4.4</td>\n",
              "      <td>0.820</td>\n",
              "    </tr>\n",
              "    <tr>\n",
              "      <th>H</th>\n",
              "      <td>gas</td>\n",
              "      <td>100</td>\n",
              "      <td>400</td>\n",
              "      <td>9.1</td>\n",
              "      <td>0.490</td>\n",
              "    </tr>\n",
              "    <tr>\n",
              "      <th>I</th>\n",
              "      <td>solar</td>\n",
              "      <td>0</td>\n",
              "      <td>70</td>\n",
              "      <td>6.6</td>\n",
              "      <td>0.000</td>\n",
              "    </tr>\n",
              "    <tr>\n",
              "      <th>J</th>\n",
              "      <td>solar</td>\n",
              "      <td>0</td>\n",
              "      <td>20</td>\n",
              "      <td>6.6</td>\n",
              "      <td>0.000</td>\n",
              "    </tr>\n",
              "  </tbody>\n",
              "</table>\n",
              "</div>"
            ],
            "text/plain": [
              "       type   lb   ub  cost/mw  co2/mw\n",
              "name                                  \n",
              "A     hydro   10  100      1.4   0.024\n",
              "B     hydro   10   80      1.4   0.024\n",
              "C     hydro   10   60      1.4   0.024\n",
              "D     hydro    1   10      1.4   0.024\n",
              "E     solid  100  900      4.4   0.820\n",
              "F     solid  100  600      4.4   0.820\n",
              "G     solid   10  100      4.4   0.820\n",
              "H       gas  100  400      9.1   0.490\n",
              "I     solar    0   70      6.6   0.000\n",
              "J     solar    0   20      6.6   0.000"
            ]
          },
          "metadata": {
            "tags": []
          },
          "execution_count": 6
        }
      ]
    },
    {
      "cell_type": "markdown",
      "metadata": {
        "id": "kFLhw3GpWR9n"
      },
      "source": [
        "Read energy/electricity demand information to dataframe and plot hourly demand using a graph."
      ]
    },
    {
      "cell_type": "code",
      "metadata": {
        "id": "FTk6lEFfWR9o",
        "outputId": "5f76d7e6-2080-4bf2-d2d5-a11a46c16f80"
      },
      "source": [
        "demand_df = pd.read_csv('demand.csv', header=None, names=['mw'])\n",
        "demand_df.head()"
      ],
      "execution_count": null,
      "outputs": [
        {
          "output_type": "execute_result",
          "data": {
            "text/html": [
              "<div>\n",
              "<style scoped>\n",
              "    .dataframe tbody tr th:only-of-type {\n",
              "        vertical-align: middle;\n",
              "    }\n",
              "\n",
              "    .dataframe tbody tr th {\n",
              "        vertical-align: top;\n",
              "    }\n",
              "\n",
              "    .dataframe thead th {\n",
              "        text-align: right;\n",
              "    }\n",
              "</style>\n",
              "<table border=\"1\" class=\"dataframe\">\n",
              "  <thead>\n",
              "    <tr style=\"text-align: right;\">\n",
              "      <th></th>\n",
              "      <th>mw</th>\n",
              "    </tr>\n",
              "  </thead>\n",
              "  <tbody>\n",
              "    <tr>\n",
              "      <th>0</th>\n",
              "      <td>1461</td>\n",
              "    </tr>\n",
              "    <tr>\n",
              "      <th>1</th>\n",
              "      <td>1446</td>\n",
              "    </tr>\n",
              "    <tr>\n",
              "      <th>2</th>\n",
              "      <td>1446</td>\n",
              "    </tr>\n",
              "    <tr>\n",
              "      <th>3</th>\n",
              "      <td>1438</td>\n",
              "    </tr>\n",
              "    <tr>\n",
              "      <th>4</th>\n",
              "      <td>1425</td>\n",
              "    </tr>\n",
              "  </tbody>\n",
              "</table>\n",
              "</div>"
            ],
            "text/plain": [
              "     mw\n",
              "0  1461\n",
              "1  1446\n",
              "2  1446\n",
              "3  1438\n",
              "4  1425"
            ]
          },
          "metadata": {
            "tags": []
          },
          "execution_count": 7
        }
      ]
    },
    {
      "cell_type": "code",
      "metadata": {
        "id": "ZXxrJ9aMWR9v",
        "outputId": "a93c76b3-5264-4129-e531-5e02a630f2f5"
      },
      "source": [
        "# Lets plot the hourly demand\n",
        "plt.plot(demand_df['mw'])\n",
        "plt.xlabel('Hour')\n",
        "plt.ylabel('Demand (MW)');"
      ],
      "execution_count": null,
      "outputs": [
        {
          "output_type": "display_data",
          "data": {
            "image/png": "[encoded data removed]",
            "text/plain": [
              "<Figure size 432x288 with 1 Axes>"
            ]
          },
          "metadata": {
            "tags": [],
            "needs_background": "light"
          }
        }
      ]
    },
    {
      "cell_type": "markdown",
      "metadata": {
        "id": "RhYB7aMoWR90"
      },
      "source": [
        "Read solar generator efficiency information to dataframe"
      ]
    },
    {
      "cell_type": "code",
      "metadata": {
        "id": "WZh1adWMWR91",
        "outputId": "b30eed36-c41c-4cbd-c9cc-e6b4fd99dbab"
      },
      "source": [
        "solar_curve_df = pd.read_csv('solar_curve.csv', header=None, names=['limit'])\n",
        "solar_curve_df.head() "
      ],
      "execution_count": null,
      "outputs": [
        {
          "output_type": "execute_result",
          "data": {
            "text/html": [
              "<div>\n",
              "<style scoped>\n",
              "    .dataframe tbody tr th:only-of-type {\n",
              "        vertical-align: middle;\n",
              "    }\n",
              "\n",
              "    .dataframe tbody tr th {\n",
              "        vertical-align: top;\n",
              "    }\n",
              "\n",
              "    .dataframe thead th {\n",
              "        text-align: right;\n",
              "    }\n",
              "</style>\n",
              "<table border=\"1\" class=\"dataframe\">\n",
              "  <thead>\n",
              "    <tr style=\"text-align: right;\">\n",
              "      <th></th>\n",
              "      <th>limit</th>\n",
              "    </tr>\n",
              "  </thead>\n",
              "  <tbody>\n",
              "    <tr>\n",
              "      <th>0</th>\n",
              "      <td>0.0</td>\n",
              "    </tr>\n",
              "    <tr>\n",
              "      <th>1</th>\n",
              "      <td>0.0</td>\n",
              "    </tr>\n",
              "    <tr>\n",
              "      <th>2</th>\n",
              "      <td>0.0</td>\n",
              "    </tr>\n",
              "    <tr>\n",
              "      <th>3</th>\n",
              "      <td>0.0</td>\n",
              "    </tr>\n",
              "    <tr>\n",
              "      <th>4</th>\n",
              "      <td>0.0</td>\n",
              "    </tr>\n",
              "  </tbody>\n",
              "</table>\n",
              "</div>"
            ],
            "text/plain": [
              "   limit\n",
              "0    0.0\n",
              "1    0.0\n",
              "2    0.0\n",
              "3    0.0\n",
              "4    0.0"
            ]
          },
          "metadata": {
            "tags": []
          },
          "execution_count": 9
        }
      ]
    },
    {
      "cell_type": "code",
      "metadata": {
        "id": "W3E4kuQ0WR94",
        "outputId": "2880e5ca-8fab-4b81-d731-10010c769ceb"
      },
      "source": [
        "# Lets plot hourly solar limit\n",
        "plt.plot(solar_curve_df['limit'])\n",
        "plt.xlabel('Hour')\n",
        "plt.ylabel('Max. Limit');"
      ],
      "execution_count": null,
      "outputs": [
        {
          "output_type": "display_data",
          "data": {
            "image/png": "[encoded data removed]",
            "text/plain": [
              "<Figure size 432x288 with 1 Axes>"
            ]
          },
          "metadata": {
            "tags": [],
            "needs_background": "light"
          }
        }
      ]
    },
    {
      "cell_type": "markdown",
      "metadata": {
        "id": "w2P6dhwpWR97"
      },
      "source": [
        "## Declare the solver"
      ]
    },
    {
      "cell_type": "markdown",
      "metadata": {
        "id": "4my902O7WR97"
      },
      "source": [
        "Since we want to do linear programming for this task, we are going to use GLOP linear programming module."
      ]
    },
    {
      "cell_type": "code",
      "metadata": {
        "id": "rZxwl_VDWR98"
      },
      "source": [
        "solver = pywraplp.Solver('Generator', pywraplp.Solver.GLOP_LINEAR_PROGRAMMING)"
      ],
      "execution_count": null,
      "outputs": []
    },
    {
      "cell_type": "code",
      "metadata": {
        "id": "K1VxvZclWR-B"
      },
      "source": [
        "# Set number of hours\n",
        "hours = len(demand_df)"
      ],
      "execution_count": null,
      "outputs": []
    },
    {
      "cell_type": "markdown",
      "metadata": {
        "id": "WvDnvXXEWR-E"
      },
      "source": [
        "## Create decision variables"
      ]
    },
    {
      "cell_type": "markdown",
      "metadata": {
        "id": "4Aj3y_xBWR-E"
      },
      "source": [
        "Lets create the decision variables for solving this problem. In this case, the decision variable is energy produced by a given generator for a specific hour. We can start by defining variables for all generators except the ones that are solar or solid types. This will result in (number of generators x number of hours) decision variables. Variables will have name in format x\\<generator_name>\\<hour> .\n",
        "\n",
        "Xij = Energy produced by generator i for hour j ∀ i ∈ [ A,B,C,D,H ] , j ∈ [ 1,2,3,4,5 ...... 23,24 ]\n",
        "\n",
        "Decision variables are names from 0 to 23 here to work easily with Python lists"
      ]
    },
    {
      "cell_type": "code",
      "metadata": {
        "id": "9s2FB5SgWR-F"
      },
      "source": [
        "# Filter dataframe to get all generators except ones of type solid/solar\n",
        "gen_info_wo_solar_solid = gen_info_df[(gen_info_df['type'] != 'solar') & (gen_info_df['type'] != 'solid')]"
      ],
      "execution_count": null,
      "outputs": []
    },
    {
      "cell_type": "code",
      "metadata": {
        "id": "jriLVbpFWR-J"
      },
      "source": [
        "# Create decision variables that are not for solid or solar generators using given lower and upper bounds\n",
        "dvs = [solver.NumVar(gen_row['lb'], gen_row['ub'], f\"X{gen_name}{j}\")\n",
        "       for gen_name, gen_row in gen_info_wo_solar_solid.iterrows()\n",
        "       for j in range(hours)]"
      ],
      "execution_count": null,
      "outputs": []
    },
    {
      "cell_type": "code",
      "metadata": {
        "id": "TtcRyVl6WR-M",
        "outputId": "9d2bc3fa-e092-4576-c405-d8b72313e83f"
      },
      "source": [
        "dvs[:3]"
      ],
      "execution_count": null,
      "outputs": [
        {
          "output_type": "execute_result",
          "data": {
            "text/plain": [
              "[XA0, XA1, XA2]"
            ]
          },
          "metadata": {
            "tags": []
          },
          "execution_count": 15
        }
      ]
    },
    {
      "cell_type": "markdown",
      "metadata": {
        "id": "0vq0pLLnWR-Y"
      },
      "source": [
        "### Create decision variables for solid generators\n",
        "\n",
        "Lets create decision variables for the solid generators. In this case, the energy produced by a given generator doesn't change with time, which means its same for all the given hours. So, we have a single variable per generator which defines the energy produced by that generator for any hour.\n",
        "\n",
        "Xi = Energy produced by generator i for any hour ∀ i ∈ [ E,F,G ]"
      ]
    },
    {
      "cell_type": "code",
      "metadata": {
        "id": "1hsVy7aeWR-Z"
      },
      "source": [
        "for gen_name, gen_row in gen_info_df[gen_info_df['type'] == 'solid'].iterrows():\n",
        "    dv = solver.NumVar(gen_row['lb'], gen_row['ub'], f\"X{gen_name}\")\n",
        "    dvs.append(dv)"
      ],
      "execution_count": null,
      "outputs": []
    },
    {
      "cell_type": "code",
      "metadata": {
        "id": "fquOzy_YWR-c",
        "outputId": "0cfdfa75-3e6e-4ce0-e85b-89608d15cb99"
      },
      "source": [
        "dvs[-5:]"
      ],
      "execution_count": null,
      "outputs": [
        {
          "output_type": "execute_result",
          "data": {
            "text/plain": [
              "[XH22, XH23, XE, XF, XG]"
            ]
          },
          "metadata": {
            "tags": []
          },
          "execution_count": 17
        }
      ]
    },
    {
      "cell_type": "markdown",
      "metadata": {
        "id": "rhLDy7bnWR-P"
      },
      "source": [
        "### Create decision variables for solar generators\n",
        "\n",
        "Lets create decision variables for the solar generators. In this case, the energy that can be produced by generator for given hour also depends on the limit mentioned in Solar curve. Hence, we use this along with the initial bounds to get true lower/upper bounds for the generator. We append these as well to our list of decision variables\n",
        "\n",
        "Xij = Energy produced by generator i for hour j ∀ i ∈ [ I,J ] , j ∈ [ 1,2,3,4,5 ...... 24 ]"
      ]
    },
    {
      "cell_type": "code",
      "metadata": {
        "id": "s9XdefMQWR-P"
      },
      "source": [
        "dv_solar = [solver.NumVar(gen_row['lb'] * solar_curve_df['limit'][j], # given bound * limit\n",
        "                          gen_row['ub'] * solar_curve_df['limit'][j], # given bound * limit\n",
        "                          f\"X{gen_name}{j}\" # Name for variable\n",
        "                         )\n",
        "           for gen_name, gen_row in gen_info_df[gen_info_df['type'] == 'solar'].iterrows() # loop through solar generators\n",
        "           for j in range(hours) # Create variables for all hours\n",
        "           ]"
      ],
      "execution_count": null,
      "outputs": []
    },
    {
      "cell_type": "code",
      "metadata": {
        "id": "AN9kdIfiWR-S"
      },
      "source": [
        "# Add created variables to list\n",
        "dvs.extend(dv_solar)"
      ],
      "execution_count": null,
      "outputs": []
    },
    {
      "cell_type": "code",
      "metadata": {
        "id": "_LoXkwQLWR-V",
        "outputId": "018e9c56-a7a7-474f-8078-092cae369721"
      },
      "source": [
        "dvs[-10:]"
      ],
      "execution_count": null,
      "outputs": [
        {
          "output_type": "execute_result",
          "data": {
            "text/plain": [
              "[XJ14, XJ15, XJ16, XJ17, XJ18, XJ19, XJ20, XJ21, XJ22, XJ23]"
            ]
          },
          "metadata": {
            "tags": []
          },
          "execution_count": 20
        }
      ]
    },
    {
      "cell_type": "code",
      "metadata": {
        "id": "fRWsnLGAWR-f",
        "outputId": "bcbf754f-8363-4a72-8e58-45c5ff55e522"
      },
      "source": [
        "# Print total decision variable count\n",
        "len(dvs)"
      ],
      "execution_count": null,
      "outputs": [
        {
          "output_type": "execute_result",
          "data": {
            "text/plain": [
              "171"
            ]
          },
          "metadata": {
            "tags": []
          },
          "execution_count": 21
        }
      ]
    },
    {
      "cell_type": "markdown",
      "metadata": {
        "id": "YDDu0msUWR-h"
      },
      "source": [
        "## Create constraints\n",
        "\n",
        "Now that we have created all decision variables, lets add constraints for this problem to the solver. The only additional constraint we have is for energy demand, which mentions total power output from all generators for a given hour should be equal to power demand for that hour.\n",
        "\n",
        "We set lower and upper bounds for the constraint with same value to get equality constraint.  \n",
        "\n",
        "XAj + XBj +XCj +XDj +XE +XF +XG+ XHj +XIj + XJj = demand[j] ∀ j ∈ [ 1,2,3,4,5 ...... 24 ]"
      ]
    },
    {
      "cell_type": "code",
      "metadata": {
        "id": "e2Ki9cVBWR-i"
      },
      "source": [
        "# Create demand constraint objects\n",
        "demand_constraints = [solver.Constraint(\n",
        "                        int(demand_df['mw'][j]), # Demand for the hour\n",
        "                        int(demand_df['mw'][j])) # Demand for the hour\n",
        "                        for j in range(hours) # Loop for all hours\n",
        "                     ]\n",
        "\n",
        "# Set coefficient for decision variables as needed in the constraints\n",
        "for dv in dvs:\n",
        "    dv_name = dv.name() # Get decision variable name\n",
        "    # For solid generators\n",
        "    if dv_name in ['XE', 'XF', 'XG']:\n",
        "        for j in range(hours): # Set coefficient for all the hours since we have only one variable \n",
        "            demand_constraints[j].SetCoefficient(dv, 1) # Set coefficient of variable as 1\n",
        "    # For all other generator types\n",
        "    else:\n",
        "        j = int(dv_name[2:]) # Get hour of the variable from its name\n",
        "        demand_constraints[j].SetCoefficient(dv, 1) # Set coefficient of variable as 1"
      ],
      "execution_count": null,
      "outputs": []
    },
    {
      "cell_type": "markdown",
      "metadata": {
        "id": "ggIjAkh0WR-k"
      },
      "source": [
        "## Set objective function\n",
        "\n",
        "We can now create the objective function for our problem, which is to minimize the total cost for power generation. This can be calculated by summing up the cost for all generators for all given hours, and the cost for given generator for an hour is the product of power generated by it (Xij) and its cost per mega watt (MW).\n",
        "\n",
        "Minimize → ∑( Cost_per_hour[i] * ( ΣXi,j ) ∀\n",
        "j ∈ [ 1,2,3,4,5 ...... 23,24 ])\n",
        "i ∈ [ A,B,C,D,E,F,G,H,I,J ]\n"
      ]
    },
    {
      "cell_type": "code",
      "metadata": {
        "id": "KCB3DpnhWR-l"
      },
      "source": [
        "# Create objective function for the solver\n",
        "\n",
        "objective = solver.Objective()\n",
        "\n",
        "# Set coefficient for decision variables as needed for the objective function\n",
        "for dv in dvs:\n",
        "    dv_name = dv.name() # Get decision variable name\n",
        "    gen_id = dv_name[1] # Get generator name\n",
        "    # For solid generators\n",
        "    if dv_name in ['XE', 'XF', 'XG']:\n",
        "        # Set coefficient of variable as 24 or hours times the cost since \n",
        "        # we only have single variable for all given hours.\n",
        "        objective.SetCoefficient(dv, gen_info_df['cost/mw'][gen_id] * hours)\n",
        "    else:\n",
        "        objective.SetCoefficient(dv, gen_info_df['cost/mw'][gen_id]) # Set coefficient of variable as cost for that generator\n",
        "\n",
        "# Since we need to minimize the cost, we can set the objective value to be minimized\n",
        "objective.SetMinimization()"
      ],
      "execution_count": null,
      "outputs": []
    },
    {
      "cell_type": "markdown",
      "metadata": {
        "id": "oYSTrOjmWR-o"
      },
      "source": [
        "## Solve the LP\n",
        "\n",
        "Lets use the solver to find solution for our linear problem and output the metrics/results if it was able to solve it."
      ]
    },
    {
      "cell_type": "code",
      "metadata": {
        "id": "FWDjIIZeWR-p"
      },
      "source": [
        "res = solver.Solve()"
      ],
      "execution_count": null,
      "outputs": []
    },
    {
      "cell_type": "code",
      "metadata": {
        "id": "wLDAHXg-WR-s",
        "outputId": "ec4db83a-bbbb-4708-f3f8-cdf9eea2de0b"
      },
      "source": [
        "from collections import defaultdict\n",
        "result_dict = defaultdict(dict)\n",
        "if res == solver.OPTIMAL:\n",
        "    for var in solver.variables():\n",
        "        dv_name = var.name()\n",
        "        if dv_name in ['XE', 'XF', 'XG']:\n",
        "            gen_name = dv_name[1]\n",
        "            for i in range(hours):\n",
        "                result_dict[gen_name][str(i+1)] = var.solution_value()\n",
        "        else:\n",
        "            gen_name = dv_name[1]\n",
        "            hour = int(dv_name[2:])\n",
        "            result_dict[gen_name][str(hour+1)] = var.solution_value()\n",
        "            \n",
        "    result_df = pd.DataFrame.from_dict(result_dict, orient='index')\n",
        "    with pd.option_context('display.max_columns', None): # From https://stackoverflow.com/questions/19124601/pretty-print-an-entire-pandas-series-dataframe#30691921\n",
        "        display(result_df)\n",
        "else:\n",
        "    print(\"Couldn't find a solution for this LP\")\n",
        "    "
      ],
      "execution_count": null,
      "outputs": [
        {
          "output_type": "display_data",
          "data": {
            "text/html": [
              "<div>\n",
              "<style scoped>\n",
              "    .dataframe tbody tr th:only-of-type {\n",
              "        vertical-align: middle;\n",
              "    }\n",
              "\n",
              "    .dataframe tbody tr th {\n",
              "        vertical-align: top;\n",
              "    }\n",
              "\n",
              "    .dataframe thead th {\n",
              "        text-align: right;\n",
              "    }\n",
              "</style>\n",
              "<table border=\"1\" class=\"dataframe\">\n",
              "  <thead>\n",
              "    <tr style=\"text-align: right;\">\n",
              "      <th></th>\n",
              "      <th>1</th>\n",
              "      <th>2</th>\n",
              "      <th>3</th>\n",
              "      <th>4</th>\n",
              "      <th>5</th>\n",
              "      <th>6</th>\n",
              "      <th>7</th>\n",
              "      <th>8</th>\n",
              "      <th>9</th>\n",
              "      <th>10</th>\n",
              "      <th>11</th>\n",
              "      <th>12</th>\n",
              "      <th>13</th>\n",
              "      <th>14</th>\n",
              "      <th>15</th>\n",
              "      <th>16</th>\n",
              "      <th>17</th>\n",
              "      <th>18</th>\n",
              "      <th>19</th>\n",
              "      <th>20</th>\n",
              "      <th>21</th>\n",
              "      <th>22</th>\n",
              "      <th>23</th>\n",
              "      <th>24</th>\n",
              "    </tr>\n",
              "  </thead>\n",
              "  <tbody>\n",
              "    <tr>\n",
              "      <th>A</th>\n",
              "      <td>69.0</td>\n",
              "      <td>54.0</td>\n",
              "      <td>54.0</td>\n",
              "      <td>46.0</td>\n",
              "      <td>33.0</td>\n",
              "      <td>28.0</td>\n",
              "      <td>75.0</td>\n",
              "      <td>100.0</td>\n",
              "      <td>100.0</td>\n",
              "      <td>100.0</td>\n",
              "      <td>100.0</td>\n",
              "      <td>100.0</td>\n",
              "      <td>100.0</td>\n",
              "      <td>100.0</td>\n",
              "      <td>100.0</td>\n",
              "      <td>100.0</td>\n",
              "      <td>100.0</td>\n",
              "      <td>100.0</td>\n",
              "      <td>100.0</td>\n",
              "      <td>100.0</td>\n",
              "      <td>100.0</td>\n",
              "      <td>100.0</td>\n",
              "      <td>87.0</td>\n",
              "      <td>71.0</td>\n",
              "    </tr>\n",
              "    <tr>\n",
              "      <th>B</th>\n",
              "      <td>80.0</td>\n",
              "      <td>80.0</td>\n",
              "      <td>80.0</td>\n",
              "      <td>80.0</td>\n",
              "      <td>80.0</td>\n",
              "      <td>80.0</td>\n",
              "      <td>80.0</td>\n",
              "      <td>80.0</td>\n",
              "      <td>80.0</td>\n",
              "      <td>80.0</td>\n",
              "      <td>80.0</td>\n",
              "      <td>80.0</td>\n",
              "      <td>80.0</td>\n",
              "      <td>80.0</td>\n",
              "      <td>80.0</td>\n",
              "      <td>80.0</td>\n",
              "      <td>80.0</td>\n",
              "      <td>80.0</td>\n",
              "      <td>80.0</td>\n",
              "      <td>80.0</td>\n",
              "      <td>80.0</td>\n",
              "      <td>80.0</td>\n",
              "      <td>80.0</td>\n",
              "      <td>80.0</td>\n",
              "    </tr>\n",
              "    <tr>\n",
              "      <th>C</th>\n",
              "      <td>60.0</td>\n",
              "      <td>60.0</td>\n",
              "      <td>60.0</td>\n",
              "      <td>60.0</td>\n",
              "      <td>60.0</td>\n",
              "      <td>60.0</td>\n",
              "      <td>60.0</td>\n",
              "      <td>60.0</td>\n",
              "      <td>60.0</td>\n",
              "      <td>60.0</td>\n",
              "      <td>60.0</td>\n",
              "      <td>60.0</td>\n",
              "      <td>60.0</td>\n",
              "      <td>60.0</td>\n",
              "      <td>60.0</td>\n",
              "      <td>60.0</td>\n",
              "      <td>60.0</td>\n",
              "      <td>60.0</td>\n",
              "      <td>60.0</td>\n",
              "      <td>60.0</td>\n",
              "      <td>60.0</td>\n",
              "      <td>60.0</td>\n",
              "      <td>60.0</td>\n",
              "      <td>60.0</td>\n",
              "    </tr>\n",
              "    <tr>\n",
              "      <th>D</th>\n",
              "      <td>10.0</td>\n",
              "      <td>10.0</td>\n",
              "      <td>10.0</td>\n",
              "      <td>10.0</td>\n",
              "      <td>10.0</td>\n",
              "      <td>10.0</td>\n",
              "      <td>10.0</td>\n",
              "      <td>10.0</td>\n",
              "      <td>10.0</td>\n",
              "      <td>10.0</td>\n",
              "      <td>10.0</td>\n",
              "      <td>10.0</td>\n",
              "      <td>10.0</td>\n",
              "      <td>10.0</td>\n",
              "      <td>10.0</td>\n",
              "      <td>10.0</td>\n",
              "      <td>10.0</td>\n",
              "      <td>10.0</td>\n",
              "      <td>10.0</td>\n",
              "      <td>10.0</td>\n",
              "      <td>10.0</td>\n",
              "      <td>10.0</td>\n",
              "      <td>10.0</td>\n",
              "      <td>10.0</td>\n",
              "    </tr>\n",
              "    <tr>\n",
              "      <th>H</th>\n",
              "      <td>100.0</td>\n",
              "      <td>100.0</td>\n",
              "      <td>100.0</td>\n",
              "      <td>100.0</td>\n",
              "      <td>100.0</td>\n",
              "      <td>100.0</td>\n",
              "      <td>100.0</td>\n",
              "      <td>100.0</td>\n",
              "      <td>100.0</td>\n",
              "      <td>100.0</td>\n",
              "      <td>100.0</td>\n",
              "      <td>100.0</td>\n",
              "      <td>100.0</td>\n",
              "      <td>100.0</td>\n",
              "      <td>100.0</td>\n",
              "      <td>100.0</td>\n",
              "      <td>100.0</td>\n",
              "      <td>100.0</td>\n",
              "      <td>100.0</td>\n",
              "      <td>125.0</td>\n",
              "      <td>123.0</td>\n",
              "      <td>104.0</td>\n",
              "      <td>100.0</td>\n",
              "      <td>100.0</td>\n",
              "    </tr>\n",
              "    <tr>\n",
              "      <th>E</th>\n",
              "      <td>442.0</td>\n",
              "      <td>442.0</td>\n",
              "      <td>442.0</td>\n",
              "      <td>442.0</td>\n",
              "      <td>442.0</td>\n",
              "      <td>442.0</td>\n",
              "      <td>442.0</td>\n",
              "      <td>442.0</td>\n",
              "      <td>442.0</td>\n",
              "      <td>442.0</td>\n",
              "      <td>442.0</td>\n",
              "      <td>442.0</td>\n",
              "      <td>442.0</td>\n",
              "      <td>442.0</td>\n",
              "      <td>442.0</td>\n",
              "      <td>442.0</td>\n",
              "      <td>442.0</td>\n",
              "      <td>442.0</td>\n",
              "      <td>442.0</td>\n",
              "      <td>442.0</td>\n",
              "      <td>442.0</td>\n",
              "      <td>442.0</td>\n",
              "      <td>442.0</td>\n",
              "      <td>442.0</td>\n",
              "    </tr>\n",
              "    <tr>\n",
              "      <th>F</th>\n",
              "      <td>600.0</td>\n",
              "      <td>600.0</td>\n",
              "      <td>600.0</td>\n",
              "      <td>600.0</td>\n",
              "      <td>600.0</td>\n",
              "      <td>600.0</td>\n",
              "      <td>600.0</td>\n",
              "      <td>600.0</td>\n",
              "      <td>600.0</td>\n",
              "      <td>600.0</td>\n",
              "      <td>600.0</td>\n",
              "      <td>600.0</td>\n",
              "      <td>600.0</td>\n",
              "      <td>600.0</td>\n",
              "      <td>600.0</td>\n",
              "      <td>600.0</td>\n",
              "      <td>600.0</td>\n",
              "      <td>600.0</td>\n",
              "      <td>600.0</td>\n",
              "      <td>600.0</td>\n",
              "      <td>600.0</td>\n",
              "      <td>600.0</td>\n",
              "      <td>600.0</td>\n",
              "      <td>600.0</td>\n",
              "    </tr>\n",
              "    <tr>\n",
              "      <th>G</th>\n",
              "      <td>100.0</td>\n",
              "      <td>100.0</td>\n",
              "      <td>100.0</td>\n",
              "      <td>100.0</td>\n",
              "      <td>100.0</td>\n",
              "      <td>100.0</td>\n",
              "      <td>100.0</td>\n",
              "      <td>100.0</td>\n",
              "      <td>100.0</td>\n",
              "      <td>100.0</td>\n",
              "      <td>100.0</td>\n",
              "      <td>100.0</td>\n",
              "      <td>100.0</td>\n",
              "      <td>100.0</td>\n",
              "      <td>100.0</td>\n",
              "      <td>100.0</td>\n",
              "      <td>100.0</td>\n",
              "      <td>100.0</td>\n",
              "      <td>100.0</td>\n",
              "      <td>100.0</td>\n",
              "      <td>100.0</td>\n",
              "      <td>100.0</td>\n",
              "      <td>100.0</td>\n",
              "      <td>100.0</td>\n",
              "    </tr>\n",
              "    <tr>\n",
              "      <th>I</th>\n",
              "      <td>0.0</td>\n",
              "      <td>0.0</td>\n",
              "      <td>0.0</td>\n",
              "      <td>0.0</td>\n",
              "      <td>0.0</td>\n",
              "      <td>0.0</td>\n",
              "      <td>0.0</td>\n",
              "      <td>11.0</td>\n",
              "      <td>15.0</td>\n",
              "      <td>12.0</td>\n",
              "      <td>12.0</td>\n",
              "      <td>0.0</td>\n",
              "      <td>0.0</td>\n",
              "      <td>0.0</td>\n",
              "      <td>0.0</td>\n",
              "      <td>0.0</td>\n",
              "      <td>0.0</td>\n",
              "      <td>17.0</td>\n",
              "      <td>16.0</td>\n",
              "      <td>0.0</td>\n",
              "      <td>0.0</td>\n",
              "      <td>0.0</td>\n",
              "      <td>0.0</td>\n",
              "      <td>0.0</td>\n",
              "    </tr>\n",
              "    <tr>\n",
              "      <th>J</th>\n",
              "      <td>0.0</td>\n",
              "      <td>0.0</td>\n",
              "      <td>0.0</td>\n",
              "      <td>0.0</td>\n",
              "      <td>0.0</td>\n",
              "      <td>0.0</td>\n",
              "      <td>0.0</td>\n",
              "      <td>0.0</td>\n",
              "      <td>0.0</td>\n",
              "      <td>0.0</td>\n",
              "      <td>0.0</td>\n",
              "      <td>10.0</td>\n",
              "      <td>6.0</td>\n",
              "      <td>4.0</td>\n",
              "      <td>0.0</td>\n",
              "      <td>0.0</td>\n",
              "      <td>0.0</td>\n",
              "      <td>0.0</td>\n",
              "      <td>10.0</td>\n",
              "      <td>0.0</td>\n",
              "      <td>0.0</td>\n",
              "      <td>0.0</td>\n",
              "      <td>0.0</td>\n",
              "      <td>0.0</td>\n",
              "    </tr>\n",
              "  </tbody>\n",
              "</table>\n",
              "</div>"
            ],
            "text/plain": [
              "       1      2      3      4      5      6      7      8      9     10  \\\n",
              "A   69.0   54.0   54.0   46.0   33.0   28.0   75.0  100.0  100.0  100.0   \n",
              "B   80.0   80.0   80.0   80.0   80.0   80.0   80.0   80.0   80.0   80.0   \n",
              "C   60.0   60.0   60.0   60.0   60.0   60.0   60.0   60.0   60.0   60.0   \n",
              "D   10.0   10.0   10.0   10.0   10.0   10.0   10.0   10.0   10.0   10.0   \n",
              "H  100.0  100.0  100.0  100.0  100.0  100.0  100.0  100.0  100.0  100.0   \n",
              "E  442.0  442.0  442.0  442.0  442.0  442.0  442.0  442.0  442.0  442.0   \n",
              "F  600.0  600.0  600.0  600.0  600.0  600.0  600.0  600.0  600.0  600.0   \n",
              "G  100.0  100.0  100.0  100.0  100.0  100.0  100.0  100.0  100.0  100.0   \n",
              "I    0.0    0.0    0.0    0.0    0.0    0.0    0.0   11.0   15.0   12.0   \n",
              "J    0.0    0.0    0.0    0.0    0.0    0.0    0.0    0.0    0.0    0.0   \n",
              "\n",
              "      11     12     13     14     15     16     17     18     19     20  \\\n",
              "A  100.0  100.0  100.0  100.0  100.0  100.0  100.0  100.0  100.0  100.0   \n",
              "B   80.0   80.0   80.0   80.0   80.0   80.0   80.0   80.0   80.0   80.0   \n",
              "C   60.0   60.0   60.0   60.0   60.0   60.0   60.0   60.0   60.0   60.0   \n",
              "D   10.0   10.0   10.0   10.0   10.0   10.0   10.0   10.0   10.0   10.0   \n",
              "H  100.0  100.0  100.0  100.0  100.0  100.0  100.0  100.0  100.0  125.0   \n",
              "E  442.0  442.0  442.0  442.0  442.0  442.0  442.0  442.0  442.0  442.0   \n",
              "F  600.0  600.0  600.0  600.0  600.0  600.0  600.0  600.0  600.0  600.0   \n",
              "G  100.0  100.0  100.0  100.0  100.0  100.0  100.0  100.0  100.0  100.0   \n",
              "I   12.0    0.0    0.0    0.0    0.0    0.0    0.0   17.0   16.0    0.0   \n",
              "J    0.0   10.0    6.0    4.0    0.0    0.0    0.0    0.0   10.0    0.0   \n",
              "\n",
              "      21     22     23     24  \n",
              "A  100.0  100.0   87.0   71.0  \n",
              "B   80.0   80.0   80.0   80.0  \n",
              "C   60.0   60.0   60.0   60.0  \n",
              "D   10.0   10.0   10.0   10.0  \n",
              "H  123.0  104.0  100.0  100.0  \n",
              "E  442.0  442.0  442.0  442.0  \n",
              "F  600.0  600.0  600.0  600.0  \n",
              "G  100.0  100.0  100.0  100.0  \n",
              "I    0.0    0.0    0.0    0.0  \n",
              "J    0.0    0.0    0.0    0.0  "
            ]
          },
          "metadata": {
            "tags": []
          }
        }
      ]
    },
    {
      "cell_type": "code",
      "metadata": {
        "id": "fYN4n2qBWR-y",
        "outputId": "bbfd355c-fda2-4406-aed2-86871f3deec6"
      },
      "source": [
        "print(f\"The total cost for power generation in best/optimal case : {solver.Objective().Value():.2f}\")"
      ],
      "execution_count": null,
      "outputs": [
        {
          "output_type": "stream",
          "text": [
            "The total cost for power generation in best/optimal case : 151518.00\n"
          ],
          "name": "stdout"
        }
      ]
    },
    {
      "cell_type": "markdown",
      "metadata": {
        "id": "FhQJTXdBWR-1"
      },
      "source": [
        "## Solution analysis\n",
        "\n",
        "First we will try to plot how energy produced varies with time for each generator."
      ]
    },
    {
      "cell_type": "code",
      "metadata": {
        "id": "n6equcw3av1H",
        "outputId": "d21ca239-4d8f-404a-a716-03539ca2865e"
      },
      "source": [
        "for gen_name, gen_row in result_df.iterrows():\n",
        "    plt.plot(gen_row.keys(), gen_row.values, label=gen_name)\n",
        "plt.legend();"
      ],
      "execution_count": null,
      "outputs": [
        {
          "output_type": "display_data",
          "data": {
            "image/png": "[encoded data removed]",
            "text/plain": [
              "<Figure size 432x288 with 1 Axes>"
            ]
          },
          "metadata": {
            "tags": [],
            "needs_background": "light"
          }
        }
      ]
    },
    {
      "cell_type": "markdown",
      "metadata": {
        "id": "_yLqW6K_nBaA"
      },
      "source": [
        "We can also try to understand this variation using a heatmap."
      ]
    },
    {
      "cell_type": "code",
      "metadata": {
        "id": "r0WH69ftnHLA",
        "outputId": "34fa42f0-19c0-4cb7-d3c5-579c5dc7fd6b"
      },
      "source": [
        "gen_heatmap = sns.heatmap(result_df, cmap='Blues')\n",
        "plt.title(\"Heatmap : Generator vs Hour\")\n",
        "plt.show()"
      ],
      "execution_count": null,
      "outputs": [
        {
          "output_type": "display_data",
          "data": {
            "image/png": "[encoded data removed]",
            "text/plain": [
              "<Figure size 432x288 with 2 Axes>"
            ]
          },
          "metadata": {
            "tags": [],
            "needs_background": "light"
          }
        }
      ]
    },
    {
      "cell_type": "markdown",
      "metadata": {
        "id": "Xr9ZftCDa7Gn"
      },
      "source": [
        "### Lets look at the power generated by different generators in the optimal case:\n",
        "#### Hydro generators:\n",
        "For generators B, C and D, we can see that the output is constant irrespective of time. For A, it goes down from 10PM till 7AM and then comes back to 100 MW (from 7AM), which correlates to lower demand during this period. \n",
        "\n",
        "#### Gas generators:\n",
        "For generator H, the output stays around 100 MW with a spike after 7PM. This can again be explained by spike in demand during this time.\n",
        "\n",
        "#### Solid generators:\n",
        "Since solid generators need to have constant output regardless of time/hour, both F and G needs to be used with their maximum output, and E with 442 MW.\n",
        "\n",
        "#### Solar generators:\n",
        "Solar generators, I and J are only used for few hours, since they have high costs compared to hydro and solid generators, and due to availability issues."
      ]
    },
    {
      "cell_type": "code",
      "metadata": {
        "id": "kE_WLCdUWR-4",
        "outputId": "37c0a1f9-58eb-4c6a-cfb2-3890b1ca4ff3"
      },
      "source": [
        "# From lecture slides\n",
        "\n",
        "# Activity and slack\n",
        "for i, val in enumerate(solver.ComputeConstraintActivities()): # From https://stackoverflow.com/questions/522563/accessing-the-index-in-for-loops\n",
        "    print(f\"Activity for hour {i + 1} is {val}, Slack is {demand_constraints[i].ub() - val}\")"
      ],
      "execution_count": null,
      "outputs": [
        {
          "output_type": "stream",
          "text": [
            "Activity for hour 1 is 1461.0, Slack is 0.0\n",
            "Activity for hour 2 is 1446.0, Slack is 0.0\n",
            "Activity for hour 3 is 1446.0, Slack is 0.0\n",
            "Activity for hour 4 is 1438.0, Slack is 0.0\n",
            "Activity for hour 5 is 1425.0, Slack is 0.0\n",
            "Activity for hour 6 is 1420.0, Slack is 0.0\n",
            "Activity for hour 7 is 1467.0, Slack is 0.0\n",
            "Activity for hour 8 is 1503.0, Slack is 0.0\n",
            "Activity for hour 9 is 1507.0, Slack is 0.0\n",
            "Activity for hour 10 is 1504.0, Slack is 0.0\n",
            "Activity for hour 11 is 1504.0, Slack is 0.0\n",
            "Activity for hour 12 is 1502.0, Slack is 0.0\n",
            "Activity for hour 13 is 1498.0, Slack is 0.0\n",
            "Activity for hour 14 is 1496.0, Slack is 0.0\n",
            "Activity for hour 15 is 1492.0, Slack is 0.0\n",
            "Activity for hour 16 is 1492.0, Slack is 0.0\n",
            "Activity for hour 17 is 1492.0, Slack is 0.0\n",
            "Activity for hour 18 is 1509.0, Slack is 0.0\n",
            "Activity for hour 19 is 1518.0, Slack is 0.0\n",
            "Activity for hour 20 is 1517.0, Slack is 0.0\n",
            "Activity for hour 21 is 1515.0, Slack is 0.0\n",
            "Activity for hour 22 is 1496.0, Slack is 0.0\n",
            "Activity for hour 23 is 1479.0, Slack is 0.0\n",
            "Activity for hour 24 is 1463.0, Slack is 0.0\n"
          ],
          "name": "stdout"
        }
      ]
    },
    {
      "cell_type": "markdown",
      "metadata": {
        "id": "QM6K178PoUlr"
      },
      "source": [
        "As expected, activity values for all the hours are equal to the demand we set previously. Slack is 0 for all hours as all our demand constraints are binding. "
      ]
    },
    {
      "cell_type": "markdown",
      "metadata": {
        "id": "ty8tRKh6eeBt"
      },
      "source": [
        "The hourly dual values are as follows."
      ]
    },
    {
      "cell_type": "code",
      "metadata": {
        "id": "JHcg2F4Nel2q",
        "outputId": "7e30fcb9-f424-408d-83fb-f86ab047e791"
      },
      "source": [
        "for i in range(hours):\n",
        "    print(f\"Dual value for hour {i+1} is {demand_constraints[i].DualValue():.3f}\")"
      ],
      "execution_count": null,
      "outputs": [
        {
          "output_type": "stream",
          "text": [
            "Dual value for hour 1 is 1.400\n",
            "Dual value for hour 2 is 1.400\n",
            "Dual value for hour 3 is 1.400\n",
            "Dual value for hour 4 is 1.400\n",
            "Dual value for hour 5 is 1.400\n",
            "Dual value for hour 6 is 1.400\n",
            "Dual value for hour 7 is 1.400\n",
            "Dual value for hour 8 is 6.600\n",
            "Dual value for hour 9 is 6.600\n",
            "Dual value for hour 10 is 6.600\n",
            "Dual value for hour 11 is 6.600\n",
            "Dual value for hour 12 is 6.600\n",
            "Dual value for hour 13 is 6.600\n",
            "Dual value for hour 14 is 6.600\n",
            "Dual value for hour 15 is 1.400\n",
            "Dual value for hour 16 is 1.400\n",
            "Dual value for hour 17 is 3.500\n",
            "Dual value for hour 18 is 6.600\n",
            "Dual value for hour 19 is 6.600\n",
            "Dual value for hour 20 is 9.100\n",
            "Dual value for hour 21 is 9.100\n",
            "Dual value for hour 22 is 9.100\n",
            "Dual value for hour 23 is 1.400\n",
            "Dual value for hour 24 is 1.400\n"
          ],
          "name": "stdout"
        }
      ]
    }
  ]
}